{
 "cells": [
  {
   "cell_type": "code",
   "execution_count": 16,
   "metadata": {},
   "outputs": [],
   "source": [
    "from __future__ import division\n",
    "\n",
    "from models import *\n",
    "from utils.utils import *\n",
    "from utils.datasets import *\n",
    "\n",
    "import os\n",
    "import sys\n",
    "import time\n",
    "import datetime\n",
    "import argparse\n",
    "import easydict\n",
    "from PIL import Image\n",
    "\n",
    "import torch\n",
    "from torch.utils.data import DataLoader\n",
    "from torchvision import datasets\n",
    "from torch.autograd import Variable\n",
    "\n",
    "import matplotlib.pyplot as plt\n",
    "import matplotlib.patches as patches\n",
    "from matplotlib.ticker import NullLocator\n",
    "%matplotlib inline"
   ]
  },
  {
   "cell_type": "code",
   "execution_count": 17,
   "metadata": {},
   "outputs": [],
   "source": [
    "opt = easydict.EasyDict({\n",
    "    \"image_folder\": \"data/samples\", \n",
    "    \"model_def\": \"config/yolov3.cfg\", \n",
    "    \"weights_path\": \"weights/yolov3.weights\", \n",
    "    \"class_path\": \"data/coco.names\", \n",
    "    \"conf_thres\": 0.8, \n",
    "    \"nms_thres\": 0.4,\n",
    "    \"batch_size\": 1,\n",
    "    \"n_cpu\": 0,\n",
    "    \"img_size\": 416,\n",
    "    \"checkpoint_model\": \"\"\n",
    "})"
   ]
  },
  {
   "cell_type": "code",
   "execution_count": 18,
   "metadata": {},
   "outputs": [
    {
     "name": "stdout",
     "output_type": "stream",
     "text": [
      "{'image_folder': 'data/samples', 'model_def': 'config/yolov3.cfg', 'weights_path': 'weights/yolov3.weights', 'class_path': 'data/coco.names', 'conf_thres': 0.8, 'nms_thres': 0.4, 'batch_size': 1, 'n_cpu': 0, 'img_size': 416, 'checkpoint_model': ''}\n",
      "\n",
      "Performing object detection:\n",
      "\t+ Batch 0, Inference Time: 0:00:00.174802\n",
      "\t+ Batch 1, Inference Time: 0:00:00.175568\n",
      "\t+ Batch 2, Inference Time: 0:00:00.032808\n",
      "\t+ Batch 3, Inference Time: 0:00:00.030464\n",
      "\t+ Batch 4, Inference Time: 0:00:00.028723\n",
      "\t+ Batch 5, Inference Time: 0:00:00.030274\n",
      "\t+ Batch 6, Inference Time: 0:00:00.031352\n",
      "\t+ Batch 7, Inference Time: 0:00:00.039507\n",
      "\t+ Batch 8, Inference Time: 0:00:00.027624\n",
      "\t+ Batch 9, Inference Time: 0:00:00.027416\n",
      "\t+ Batch 10, Inference Time: 0:00:00.029124\n",
      "\t+ Batch 11, Inference Time: 0:00:00.179231\n",
      "\n",
      "Saving images:\n",
      "(0) Image: 'data/samples/bus.jpg'\n",
      "\t+ Label: bus, Conf: 0.99871\n",
      "\t+ Label: car, Conf: 0.99751\n",
      "\t+ Label: car, Conf: 0.95687\n",
      "\t+ Label: car, Conf: 0.94956\n",
      "\t+ Label: car, Conf: 0.76356\n",
      "(1) Image: 'data/samples/car1.jpg'\n",
      "\t+ Label: truck, Conf: 0.99509\n",
      "\t+ Label: car, Conf: 0.97715\n",
      "\t+ Label: car, Conf: 0.86705\n",
      "\t+ Label: car, Conf: 0.99857\n",
      "\t+ Label: car, Conf: 0.85673\n",
      "(2) Image: 'data/samples/dog.jpg'\n",
      "\t+ Label: dog, Conf: 0.99335\n",
      "\t+ Label: bicycle, Conf: 0.99981\n",
      "\t+ Label: truck, Conf: 0.94229\n",
      "(3) Image: 'data/samples/eagle.jpg'\n",
      "\t+ Label: bird, Conf: 0.99703\n",
      "(4) Image: 'data/samples/field.jpg'\n",
      "\t+ Label: person, Conf: 0.99996\n",
      "\t+ Label: horse, Conf: 0.99977\n",
      "\t+ Label: dog, Conf: 0.99409\n",
      "(5) Image: 'data/samples/giraffe.jpg'\n",
      "\t+ Label: giraffe, Conf: 0.99959\n",
      "\t+ Label: zebra, Conf: 0.97958\n",
      "(6) Image: 'data/samples/herd_of_horses.jpg'\n",
      "\t+ Label: horse, Conf: 0.99459\n",
      "\t+ Label: horse, Conf: 0.99352\n",
      "\t+ Label: horse, Conf: 0.96845\n",
      "\t+ Label: horse, Conf: 0.99478\n",
      "(7) Image: 'data/samples/messi.jpg'\n",
      "\t+ Label: person, Conf: 0.99993\n",
      "\t+ Label: person, Conf: 0.99984\n",
      "\t+ Label: person, Conf: 0.99996\n",
      "(8) Image: 'data/samples/person.jpg'\n",
      "\t+ Label: person, Conf: 0.99883\n",
      "\t+ Label: dog, Conf: 0.99275\n",
      "(9) Image: 'data/samples/room.jpg'\n",
      "\t+ Label: chair, Conf: 0.99906\n",
      "\t+ Label: chair, Conf: 0.96942\n",
      "\t+ Label: clock, Conf: 0.99971\n",
      "(10) Image: 'data/samples/street.jpg'\n",
      "\t+ Label: car, Conf: 0.99977\n",
      "\t+ Label: car, Conf: 0.99402\n",
      "\t+ Label: car, Conf: 0.99841\n",
      "\t+ Label: car, Conf: 0.99785\n",
      "\t+ Label: car, Conf: 0.97907\n",
      "\t+ Label: car, Conf: 0.95370\n",
      "\t+ Label: traffic light, Conf: 0.99995\n",
      "\t+ Label: car, Conf: 0.62254\n",
      "(11) Image: 'data/samples/truck.jpg'\n",
      "\t+ Label: truck, Conf: 0.98820\n",
      "\t+ Label: truck, Conf: 0.97043\n"
     ]
    },
    {
     "data": {
      "text/plain": [
       "<Figure size 432x288 with 0 Axes>"
      ]
     },
     "metadata": {},
     "output_type": "display_data"
    },
    {
     "data": {
      "text/plain": [
       "<Figure size 432x288 with 0 Axes>"
      ]
     },
     "metadata": {},
     "output_type": "display_data"
    },
    {
     "data": {
      "text/plain": [
       "<Figure size 432x288 with 0 Axes>"
      ]
     },
     "metadata": {},
     "output_type": "display_data"
    },
    {
     "data": {
      "text/plain": [
       "<Figure size 432x288 with 0 Axes>"
      ]
     },
     "metadata": {},
     "output_type": "display_data"
    },
    {
     "data": {
      "text/plain": [
       "<Figure size 432x288 with 0 Axes>"
      ]
     },
     "metadata": {},
     "output_type": "display_data"
    },
    {
     "data": {
      "text/plain": [
       "<Figure size 432x288 with 0 Axes>"
      ]
     },
     "metadata": {},
     "output_type": "display_data"
    },
    {
     "data": {
      "text/plain": [
       "<Figure size 432x288 with 0 Axes>"
      ]
     },
     "metadata": {},
     "output_type": "display_data"
    },
    {
     "data": {
      "text/plain": [
       "<Figure size 432x288 with 0 Axes>"
      ]
     },
     "metadata": {},
     "output_type": "display_data"
    },
    {
     "data": {
      "text/plain": [
       "<Figure size 432x288 with 0 Axes>"
      ]
     },
     "metadata": {},
     "output_type": "display_data"
    },
    {
     "data": {
      "text/plain": [
       "<Figure size 432x288 with 0 Axes>"
      ]
     },
     "metadata": {},
     "output_type": "display_data"
    },
    {
     "data": {
      "text/plain": [
       "<Figure size 432x288 with 0 Axes>"
      ]
     },
     "metadata": {},
     "output_type": "display_data"
    },
    {
     "data": {
      "text/plain": [
       "<Figure size 432x288 with 0 Axes>"
      ]
     },
     "metadata": {},
     "output_type": "display_data"
    }
   ],
   "source": [
    "if __name__ == \"__main__\":\n",
    "    '''\n",
    "    parser = argparse.ArgumentParser()\n",
    "    parser.add_argument(\"--image_folder\", type=str, default=\"data/samples\", help=\"path to dataset\")\n",
    "    parser.add_argument(\"--model_def\", type=str, default=\"config/yolov3.cfg\", help=\"path to model definition file\")\n",
    "    parser.add_argument(\"--weights_path\", type=str, default=\"weights/yolov3.weights\", help=\"path to weights file\")\n",
    "    parser.add_argument(\"--class_path\", type=str, default=\"data/coco.names\", help=\"path to class label file\")\n",
    "    parser.add_argument(\"--conf_thres\", type=float, default=0.8, help=\"object confidence threshold\")\n",
    "    parser.add_argument(\"--nms_thres\", type=float, default=0.4, help=\"iou thresshold for non-maximum suppression\")\n",
    "    parser.add_argument(\"--batch_size\", type=int, default=1, help=\"size of the batches\")\n",
    "    parser.add_argument(\"--n_cpu\", type=int, default=0, help=\"number of cpu threads to use during batch generation\")\n",
    "    parser.add_argument(\"--img_size\", type=int, default=416, help=\"size of each image dimension\")\n",
    "    parser.add_argument(\"--checkpoint_model\", type=str, help=\"path to checkpoint model\")\n",
    "    opt = parser.parse_args()\n",
    "    '''\n",
    "    print(opt)\n",
    "\n",
    "    device = torch.device(\"cuda\" if torch.cuda.is_available() else \"cpu\")\n",
    "\n",
    "    os.makedirs(\"output\", exist_ok=True)\n",
    "\n",
    "    # Set up model\n",
    "    model = \n",
    "    (opt.model_def, img_size=opt.img_size).to(device)\n",
    "\n",
    "    if opt.weights_path.endswith(\".weights\"):\n",
    "        # Load darknet weights\n",
    "        model.load_darknet_weights(opt.weights_path)\n",
    "    else:\n",
    "        # Load checkpoint weights\n",
    "        model.load_state_dict(torch.load(opt.weights_path))\n",
    "\n",
    "    model.eval()  # Set in evaluation mode\n",
    "\n",
    "    dataloader = DataLoader(\n",
    "        ImageFolder(opt.image_folder, img_size=opt.img_size),\n",
    "        batch_size=opt.batch_size,\n",
    "        shuffle=False,\n",
    "        num_workers=opt.n_cpu,\n",
    "    )\n",
    "\n",
    "    classes = load_classes(opt.class_path)  # Extracts class labels from file\n",
    "\n",
    "    Tensor = torch.cuda.FloatTensor if torch.cuda.is_available() else torch.FloatTensor\n",
    "\n",
    "    imgs = []  # Stores image paths\n",
    "    img_detections = []  # Stores detections for each image index\n",
    "\n",
    "    print(\"\\nPerforming object detection:\")\n",
    "    prev_time = time.time()\n",
    "    for batch_i, (img_paths, input_imgs) in enumerate(dataloader):\n",
    "        # Configure input\n",
    "        input_imgs = Variable(input_imgs.type(Tensor))\n",
    "\n",
    "        # Get detections\n",
    "        with torch.no_grad():\n",
    "            detections = model(input_imgs)\n",
    "            detections = non_max_suppression(detections, opt.conf_thres, opt.nms_thres)\n",
    "\n",
    "        # Log progress\n",
    "        current_time = time.time()\n",
    "        inference_time = datetime.timedelta(seconds=current_time - prev_time)\n",
    "        prev_time = current_time\n",
    "        print(\"\\t+ Batch %d, Inference Time: %s\" % (batch_i, inference_time))\n",
    "\n",
    "        # Save image and detections\n",
    "        imgs.extend(img_paths)\n",
    "        img_detections.extend(detections)\n",
    "\n",
    "    # Bounding-box colors\n",
    "    cmap = plt.get_cmap(\"tab20b\")\n",
    "    colors = [cmap(i) for i in np.linspace(0, 1, 20)]\n",
    "\n",
    "    print(\"\\nSaving images:\")\n",
    "    # Iterate through images and save plot of detections\n",
    "    for img_i, (path, detections) in enumerate(zip(imgs, img_detections)):\n",
    "\n",
    "        print(\"(%d) Image: '%s'\" % (img_i, path))\n",
    "\n",
    "        # Create plot\n",
    "        img = np.array(Image.open(path))\n",
    "        plt.figure()\n",
    "        fig, ax = plt.subplots(1)\n",
    "        ax.imshow(img)\n",
    "\n",
    "        # Draw bounding boxes and labels of detections\n",
    "        if detections is not None:\n",
    "            # Rescale boxes to original image\n",
    "            detections = rescale_boxes(detections, opt.img_size, img.shape[:2])\n",
    "            unique_labels = detections[:, -1].cpu().unique()\n",
    "            n_cls_preds = len(unique_labels)\n",
    "            bbox_colors = random.sample(colors, n_cls_preds)\n",
    "            for x1, y1, x2, y2, conf, cls_conf, cls_pred in detections:\n",
    "\n",
    "                print(\"\\t+ Label: %s, Conf: %.5f\" % (classes[int(cls_pred)], cls_conf.item()))\n",
    "\n",
    "                box_w = x2 - x1\n",
    "                box_h = y2 - y1\n",
    "\n",
    "                color = bbox_colors[int(np.where(unique_labels == int(cls_pred))[0])]\n",
    "                # Create a Rectangle patch\n",
    "                bbox = patches.Rectangle((x1, y1), box_w, box_h, linewidth=2, edgecolor=color, facecolor=\"none\")\n",
    "                # Add the bbox to the plot\n",
    "                ax.add_patch(bbox)\n",
    "                # Add label\n",
    "                plt.text(\n",
    "                    x1,\n",
    "                    y1,\n",
    "                    s=classes[int(cls_pred)],\n",
    "                    color=\"white\",\n",
    "                    verticalalignment=\"top\",\n",
    "                    bbox={\"color\": color, \"pad\": 0},\n",
    "                )\n",
    "\n",
    "        # Save generated image with detections\n",
    "        plt.axis(\"off\")\n",
    "        plt.gca().xaxis.set_major_locator(NullLocator())\n",
    "        plt.gca().yaxis.set_major_locator(NullLocator())\n",
    "        filename = path.split(\"/\")[-1].split(\".\")[0]\n",
    "        plt.savefig(f\"output/{filename}.png\", bbox_inches=\"tight\", pad_inches=0.0)        \n",
    "        plt.close()"
   ]
  },
  {
   "cell_type": "code",
   "execution_count": null,
   "metadata": {},
   "outputs": [],
   "source": []
  }
 ],
 "metadata": {
  "kernelspec": {
   "display_name": "yolo3",
   "language": "python",
   "name": "torch-yolo3"
  },
  "language_info": {
   "codemirror_mode": {
    "name": "ipython",
    "version": 3
   },
   "file_extension": ".py",
   "mimetype": "text/x-python",
   "name": "python",
   "nbconvert_exporter": "python",
   "pygments_lexer": "ipython3",
   "version": "3.6.12"
  }
 },
 "nbformat": 4,
 "nbformat_minor": 2
}
